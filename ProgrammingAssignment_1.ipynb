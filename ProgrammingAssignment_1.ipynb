{
 "cells": [
  {
   "cell_type": "markdown",
   "id": "d8752030",
   "metadata": {},
   "source": [
    "# Programming Assignment 1"
   ]
  },
  {
   "cell_type": "markdown",
   "id": "7230500d",
   "metadata": {},
   "source": [
    "### 1. Write a program to print 'Hello Python'"
   ]
  },
  {
   "cell_type": "code",
   "execution_count": 2,
   "id": "a16291ca",
   "metadata": {},
   "outputs": [
    {
     "name": "stdout",
     "output_type": "stream",
     "text": [
      "\"Hello Python\"\n"
     ]
    }
   ],
   "source": [
    "print('\"Hello Python\"')"
   ]
  },
  {
   "cell_type": "markdown",
   "id": "565f4dc8",
   "metadata": {},
   "source": [
    "### 2. Write a program to do arithmetical operations addition and division"
   ]
  },
  {
   "cell_type": "code",
   "execution_count": 6,
   "id": "55033633",
   "metadata": {},
   "outputs": [
    {
     "name": "stdout",
     "output_type": "stream",
     "text": [
      "6\n",
      "0\n",
      "Addition: 6\n",
      "Exception division by zero\n"
     ]
    }
   ],
   "source": [
    "try:\n",
    "    x,y = int(input()),int(input())\n",
    "    print(f\"Addition: {x+y}\")\n",
    "    print(f\"Division: {x/y}\")\n",
    "except Exception as e:\n",
    "    print(\"Exception:\",e)"
   ]
  },
  {
   "cell_type": "markdown",
   "id": "f731086c",
   "metadata": {},
   "source": [
    "### 3. Write a program to find the area of a triangle"
   ]
  },
  {
   "cell_type": "code",
   "execution_count": 32,
   "id": "f45480c4",
   "metadata": {},
   "outputs": [
    {
     "name": "stdout",
     "output_type": "stream",
     "text": [
      "3\n",
      "3\n",
      "3\n",
      "Equilateral Triangle: \n",
      "Area : 3.8971143170299736\n"
     ]
    }
   ],
   "source": [
    "import math\n",
    "try:\n",
    "    a,b,c = float(input()),float(input()),float(input())\n",
    "    area = 0\n",
    "    if a+b>max(a,b,c) and a+c>max(a,b,c) and b+c>max(a,b,c):\n",
    "        if a==b and b==c:\n",
    "            print(\"Equilateral Triangle: \")\n",
    "            area = math.sqrt(3)/4 * a**2\n",
    "        elif a!=b and b!=c:\n",
    "            print(\"Scalene Triangle: \")\n",
    "            p = a+b+c\n",
    "            s = p/2\n",
    "            area = s*(s-a)*(s-b)*(s-c)\n",
    "            area = math.sqrt(area)\n",
    "        else:\n",
    "            print(\"Isosceles Triangle: \")\n",
    "            area = (b*(math.sqrt(4*math.pow(a,2) - math.pow(b,2))))/4\n",
    "\n",
    "        print(\"Area :\",area)\n",
    "    else:\n",
    "        print (\"Invalid Triangle\")\n",
    "except Exception as e:\n",
    "    print(\"Exception: \",e)"
   ]
  },
  {
   "cell_type": "markdown",
   "id": "6a48540f",
   "metadata": {},
   "source": [
    "### 4. Write a program to swap two variables"
   ]
  },
  {
   "cell_type": "code",
   "execution_count": 33,
   "id": "e9033d23",
   "metadata": {},
   "outputs": [
    {
     "name": "stdout",
     "output_type": "stream",
     "text": [
      "4\n",
      "5\n",
      "Before Swapping: a = 4, b = 5\n",
      "After Swapping: a = 5, b = 4\n"
     ]
    }
   ],
   "source": [
    "a = int(input())\n",
    "b = int (input())\n",
    "print(f\"Before Swapping: a = {a}, b = {b}\")\n",
    "a,b = b,a\n",
    "print(f\"After Swapping: a = {a}, b = {b}\")"
   ]
  },
  {
   "cell_type": "markdown",
   "id": "ceca9571",
   "metadata": {},
   "source": [
    "### 5. Write a program to generate a random number"
   ]
  },
  {
   "cell_type": "code",
   "execution_count": 36,
   "id": "d58aabfc",
   "metadata": {},
   "outputs": [
    {
     "name": "stdout",
     "output_type": "stream",
     "text": [
      "0.09640967578011939\n"
     ]
    }
   ],
   "source": [
    "import random\n",
    "print(random.random())"
   ]
  },
  {
   "cell_type": "code",
   "execution_count": null,
   "id": "73a131e9",
   "metadata": {},
   "outputs": [],
   "source": []
  }
 ],
 "metadata": {
  "kernelspec": {
   "display_name": "Python 3 (ipykernel)",
   "language": "python",
   "name": "python3"
  },
  "language_info": {
   "codemirror_mode": {
    "name": "ipython",
    "version": 3
   },
   "file_extension": ".py",
   "mimetype": "text/x-python",
   "name": "python",
   "nbconvert_exporter": "python",
   "pygments_lexer": "ipython3",
   "version": "3.9.13"
  }
 },
 "nbformat": 4,
 "nbformat_minor": 5
}
