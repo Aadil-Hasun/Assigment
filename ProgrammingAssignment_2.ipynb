{
 "cells": [
  {
   "cell_type": "markdown",
   "id": "ae36d400",
   "metadata": {},
   "source": [
    "# Programming Assignment 2"
   ]
  },
  {
   "cell_type": "markdown",
   "id": "3f1bb5ce",
   "metadata": {},
   "source": [
    "### 1. Write a program to convert kilometres to miles"
   ]
  },
  {
   "cell_type": "code",
   "execution_count": 3,
   "id": "65a54154",
   "metadata": {},
   "outputs": [
    {
     "name": "stdout",
     "output_type": "stream",
     "text": [
      "Enter distance in kilometres: 5\n",
      "5.0 kilometre/s is equal to 3.106855 mile/s\n"
     ]
    }
   ],
   "source": [
    "try:\n",
    "    mile = 0.621371\n",
    "    km = float(input(\"Enter distance in kilometres: \"))\n",
    "    if km < 0:\n",
    "        print(\"Distance cannot be negative\")\n",
    "    else:\n",
    "        output = km*mile\n",
    "        print(f\"{km} kilometre/s is equal to {output} mile/s\")\n",
    "except Exception as e:\n",
    "    print(\"Exception: \",e)"
   ]
  },
  {
   "cell_type": "markdown",
   "id": "a90d1526",
   "metadata": {},
   "source": [
    "### 2. Write a program to convert Celsius to Fahrenheit"
   ]
  },
  {
   "cell_type": "code",
   "execution_count": 19,
   "id": "452af760",
   "metadata": {},
   "outputs": [
    {
     "name": "stdout",
     "output_type": "stream",
     "text": [
      "Enter temperature in celsius: -22\n",
      "-22.0°C is equal to -7.6°F\n"
     ]
    }
   ],
   "source": [
    "celsius = float(input(\"Enter temperature in celsius: \"))\n",
    "degree_sign = u\"\\N{DEGREE SIGN}\"\n",
    "farenheit = (celsius * (9/5)) + 32\n",
    "print(f\"{celsius}{degree_sign}C is equal to {round(farenheit,2)}{degree_sign}F\")"
   ]
  },
  {
   "cell_type": "markdown",
   "id": "fb6c90ec",
   "metadata": {},
   "source": [
    "### 3. Write a program to display calendar"
   ]
  },
  {
   "cell_type": "code",
   "execution_count": 21,
   "id": "ddfa9141",
   "metadata": {},
   "outputs": [
    {
     "name": "stdout",
     "output_type": "stream",
     "text": [
      "Enter the year: 2023\n",
      "                                  2023\n",
      "\n",
      "      January                   February                   March\n",
      "Mo Tu We Th Fr Sa Su      Mo Tu We Th Fr Sa Su      Mo Tu We Th Fr Sa Su\n",
      "                   1             1  2  3  4  5             1  2  3  4  5\n",
      " 2  3  4  5  6  7  8       6  7  8  9 10 11 12       6  7  8  9 10 11 12\n",
      " 9 10 11 12 13 14 15      13 14 15 16 17 18 19      13 14 15 16 17 18 19\n",
      "16 17 18 19 20 21 22      20 21 22 23 24 25 26      20 21 22 23 24 25 26\n",
      "23 24 25 26 27 28 29      27 28                     27 28 29 30 31\n",
      "30 31\n",
      "\n",
      "       April                      May                       June\n",
      "Mo Tu We Th Fr Sa Su      Mo Tu We Th Fr Sa Su      Mo Tu We Th Fr Sa Su\n",
      "                1  2       1  2  3  4  5  6  7                1  2  3  4\n",
      " 3  4  5  6  7  8  9       8  9 10 11 12 13 14       5  6  7  8  9 10 11\n",
      "10 11 12 13 14 15 16      15 16 17 18 19 20 21      12 13 14 15 16 17 18\n",
      "17 18 19 20 21 22 23      22 23 24 25 26 27 28      19 20 21 22 23 24 25\n",
      "24 25 26 27 28 29 30      29 30 31                  26 27 28 29 30\n",
      "\n",
      "        July                     August                  September\n",
      "Mo Tu We Th Fr Sa Su      Mo Tu We Th Fr Sa Su      Mo Tu We Th Fr Sa Su\n",
      "                1  2          1  2  3  4  5  6                   1  2  3\n",
      " 3  4  5  6  7  8  9       7  8  9 10 11 12 13       4  5  6  7  8  9 10\n",
      "10 11 12 13 14 15 16      14 15 16 17 18 19 20      11 12 13 14 15 16 17\n",
      "17 18 19 20 21 22 23      21 22 23 24 25 26 27      18 19 20 21 22 23 24\n",
      "24 25 26 27 28 29 30      28 29 30 31               25 26 27 28 29 30\n",
      "31\n",
      "\n",
      "      October                   November                  December\n",
      "Mo Tu We Th Fr Sa Su      Mo Tu We Th Fr Sa Su      Mo Tu We Th Fr Sa Su\n",
      "                   1             1  2  3  4  5                   1  2  3\n",
      " 2  3  4  5  6  7  8       6  7  8  9 10 11 12       4  5  6  7  8  9 10\n",
      " 9 10 11 12 13 14 15      13 14 15 16 17 18 19      11 12 13 14 15 16 17\n",
      "16 17 18 19 20 21 22      20 21 22 23 24 25 26      18 19 20 21 22 23 24\n",
      "23 24 25 26 27 28 29      27 28 29 30               25 26 27 28 29 30 31\n",
      "30 31\n",
      "\n"
     ]
    }
   ],
   "source": [
    "import calendar\n",
    "year = int(input(\"Enter the year: \"))\n",
    "print(calendar.calendar(year))"
   ]
  },
  {
   "cell_type": "markdown",
   "id": "55fd777a",
   "metadata": {},
   "source": [
    "### 4. Write a program to solve quadratic equation"
   ]
  },
  {
   "cell_type": "code",
   "execution_count": 34,
   "id": "710f50b5",
   "metadata": {},
   "outputs": [
    {
     "name": "stdout",
     "output_type": "stream",
     "text": [
      "Enter the coefficient of x^2: 2\n",
      "Enter the coefficient of x: -3\n",
      "Enter the value of constant (c): 5\n",
      "The equation has two distinct complex roots: \n",
      "First complex root is (-0.75+5.57j) and second complex root is (-0.75-5.57j)\n"
     ]
    }
   ],
   "source": [
    "import math\n",
    "a = float(input(\"Enter the coefficient of x^2: \"))\n",
    "b = float(input(\"Enter the coefficient of x: \"))\n",
    "c = float(input(\"Enter the value of constant (c): \"))\n",
    "\n",
    "D = b**2 - 4*a*c\n",
    "if D == 0:\n",
    "    print(\"The equation has only one root: \")\n",
    "    print(b/(2*a))\n",
    "elif D>0:\n",
    "    print(\"The equation has two distinct real roots: \")\n",
    "    root1 = (b + math.sqrt(D))/(2*a)\n",
    "    root2 = (b - math.sqrt(D))/(2*a)\n",
    "    print(f\"First real root is {root1} and second root is {root2}\")\n",
    "else:\n",
    "    print(\"The equation has two distinct complex roots: \")\n",
    "    real = b/(2*a)\n",
    "    imag = math.sqrt(abs(D))/2*a\n",
    "    root1 = complex(round(real,2),round(imag,2))\n",
    "    root2 = complex(round(real,2),-round(imag,2))\n",
    "    print(f\"First complex root is {root1} and second complex root is {root2}\")\n"
   ]
  },
  {
   "cell_type": "markdown",
   "id": "c9723c0b",
   "metadata": {},
   "source": [
    "### 5. Write a program to swap two variables without temp variable"
   ]
  },
  {
   "cell_type": "code",
   "execution_count": 33,
   "id": "29b91fd9",
   "metadata": {},
   "outputs": [
    {
     "name": "stdout",
     "output_type": "stream",
     "text": [
      "10\n",
      "15\n",
      "Before swapping: a = 10 and b = 15\n",
      "After swapping: a = 15 and b = 10\n"
     ]
    }
   ],
   "source": [
    "a = int(input())\n",
    "b = int(input())\n",
    "print(f\"Before swapping: a = {a} and b = {b}\")\n",
    "a = a-b\n",
    "b = a+b\n",
    "a = b-a\n",
    "print(f\"After swapping: a = {a} and b = {b}\")"
   ]
  },
  {
   "cell_type": "code",
   "execution_count": null,
   "id": "aa801758",
   "metadata": {},
   "outputs": [],
   "source": []
  }
 ],
 "metadata": {
  "kernelspec": {
   "display_name": "Python 3 (ipykernel)",
   "language": "python",
   "name": "python3"
  },
  "language_info": {
   "codemirror_mode": {
    "name": "ipython",
    "version": 3
   },
   "file_extension": ".py",
   "mimetype": "text/x-python",
   "name": "python",
   "nbconvert_exporter": "python",
   "pygments_lexer": "ipython3",
   "version": "3.9.13"
  }
 },
 "nbformat": 4,
 "nbformat_minor": 5
}
